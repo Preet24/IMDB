{
 "cells": [
  {
   "cell_type": "code",
   "execution_count": 1,
   "metadata": {},
   "outputs": [
    {
     "name": "stderr",
     "output_type": "stream",
     "text": [
      "C:\\Users\\HP-1\\Anaconda3\\lib\\site-packages\\h5py\\__init__.py:34: FutureWarning: Conversion of the second argument of issubdtype from `float` to `np.floating` is deprecated. In future, it will be treated as `np.float64 == np.dtype(float).type`.\n",
      "  from ._conv import register_converters as _register_converters\n",
      "Using TensorFlow backend.\n"
     ]
    }
   ],
   "source": [
    "import keras\n",
    "import numpy as np\n",
    "import pandas as pd\n",
    "import matplotlib.pyplot as plt"
   ]
  },
  {
   "cell_type": "code",
   "execution_count": 2,
   "metadata": {
    "collapsed": true
   },
   "outputs": [],
   "source": [
    "import os\n",
    "from keras import preprocessing\n",
    "from keras.layers import Embedding\n",
    "imdb_dir = 'C:/Users/HP-1/Downloads/aclImdb/aclImdb'\n",
    "train_dir = os.path.join(imdb_dir, 'test')\n",
    "\n",
    "labels = []\n",
    "texts = []\n",
    "\n",
    "for label_type in ['neg', 'pos']:\n",
    "    dir_name = os.path.join(train_dir, label_type)\n",
    "    for fname in os.listdir(dir_name):\n",
    "        if fname[-4:] == '.txt':\n",
    "            f = open(os.path.join(dir_name, fname),errors='ignore')\n",
    "            texts.append(f.read())\n",
    "            f.close()\n",
    "            if label_type == 'neg':\n",
    "                labels.append(0)\n",
    "            else:\n",
    "                labels.append(1)\n",
    "\n"
   ]
  },
  {
   "cell_type": "code",
   "execution_count": 14,
   "metadata": {},
   "outputs": [
    {
     "name": "stdout",
     "output_type": "stream",
     "text": [
      "Found 72636 unique tokens.\n",
      "Shape of data tensor: (17243, 200)\n",
      "Shape of label tensor: (17243,)\n"
     ]
    }
   ],
   "source": [
    "from keras.preprocessing.text import Tokenizer\n",
    "from keras.preprocessing.sequence import pad_sequences\n",
    "max_features=15000\n",
    "maxlen=200\n",
    "training_samples = 2000  # We will be training on 200 samples\n",
    "validation_samples = 1000  # We will be validating on 10000 samples\n",
    "max_words = 15000  # We will only consider the top 10,000 words in the dataset\n",
    "tokenizer = Tokenizer(num_words=max_words)\n",
    "tokenizer.fit_on_texts(texts)\n",
    "sequences = tokenizer.texts_to_sequences(texts)\n",
    "\n",
    "word_index = tokenizer.word_index\n",
    "print('Found %s unique tokens.' % len(word_index))\n",
    "\n",
    "data = pad_sequences(sequences, maxlen=maxlen)\n",
    "\n",
    "labels = np.asarray(labels)\n",
    "print('Shape of data tensor:', data.shape)\n",
    "print('Shape of label tensor:', labels.shape)\n",
    "\n",
    "# Split the data into a training set and a validation set\n",
    "# But first, shuffle the data, since we started from data\n",
    "# where sample are ordered (all negative first, then all positive).\n",
    "indices = np.arange(data.shape[0])\n",
    "np.random.shuffle(indices)\n",
    "data = data[indices]\n",
    "labels = labels[indices]\n",
    "\n",
    "x_train = data[:training_samples]\n",
    "y_train = labels[:training_samples]\n",
    "x_val = data[training_samples: training_samples + validation_samples]\n",
    "y_val = labels[training_samples: training_samples + validation_samples]"
   ]
  },
  {
   "cell_type": "code",
   "execution_count": 4,
   "metadata": {},
   "outputs": [
    {
     "name": "stdout",
     "output_type": "stream",
     "text": [
      "Found 400000 word vectors.\n"
     ]
    }
   ],
   "source": [
    "glove_dir='C:/Users/HP-1/Downloads/glove.6B'\n",
    "embeddings_index={}\n",
    "f=open(os.path.join(glove_dir,'glove.6B.100d.txt'),encoding=\"utf8\")\n",
    "for line in f:\n",
    "    values=line.split()\n",
    "    word=values[0]\n",
    "    coefs=np.asarray(values[1:],dtype='float32')\n",
    "    embeddings_index[word]=coefs\n",
    "f.close()\n",
    "print('Found %s word vectors.'% len(embeddings_index) )"
   ]
  },
  {
   "cell_type": "code",
   "execution_count": 5,
   "metadata": {
    "collapsed": true
   },
   "outputs": [],
   "source": [
    "embedding_dim=100\n",
    "embedding_matrix=np.zeros((max_words,embedding_dim))\n",
    "for word,i in word_index.items():\n",
    "    if i<max_words:\n",
    "        embedding_vector=embeddings_index.get(word)\n",
    "        if embedding_vector is not None:\n",
    "            embedding_matrix[i]=embedding_vector\n",
    "            "
   ]
  },
  {
   "cell_type": "code",
   "execution_count": 19,
   "metadata": {},
   "outputs": [
    {
     "name": "stdout",
     "output_type": "stream",
     "text": [
      "_________________________________________________________________\n",
      "Layer (type)                 Output Shape              Param #   \n",
      "=================================================================\n",
      "embedding_6 (Embedding)      (None, 200, 100)          1500000   \n",
      "_________________________________________________________________\n",
      "simple_rnn_6 (SimpleRNN)     (None, 32)                4256      \n",
      "_________________________________________________________________\n",
      "dense_2 (Dense)              (None, 1)                 33        \n",
      "=================================================================\n",
      "Total params: 1,504,289\n",
      "Trainable params: 4,289\n",
      "Non-trainable params: 1,500,000\n",
      "_________________________________________________________________\n"
     ]
    }
   ],
   "source": [
    "from keras.models import Sequential\n",
    "from keras.layers import  Flatten, Dense,Dropout\n",
    "from keras.layers import SimpleRNN\n",
    "from keras.layers import Embedding,SimpleRNN\n",
    "model = Sequential()\n",
    "model.add(Embedding(max_words,embedding_dim,input_length=maxlen))\n",
    "model.add(SimpleRNN(32))\n",
    "model.add(Dense(1,activation='sigmoid'))\n",
    "model.layers[0].set_weights([embedding_matrix])\n",
    "model.layers[0].trainable = False\n",
    "model.summary()"
   ]
  },
  {
   "cell_type": "code",
   "execution_count": 20,
   "metadata": {},
   "outputs": [
    {
     "name": "stdout",
     "output_type": "stream",
     "text": [
      "Train on 1600 samples, validate on 400 samples\n",
      "Epoch 1/10\n",
      "1600/1600 [==============================] - 3s 2ms/step - loss: 0.6228 - acc: 0.6844 - val_loss: 0.6233 - val_acc: 0.7200\n",
      "Epoch 2/10\n",
      "1600/1600 [==============================] - 2s 1ms/step - loss: 0.5967 - acc: 0.7144 - val_loss: 0.6231 - val_acc: 0.7175\n",
      "Epoch 3/10\n",
      "1600/1600 [==============================] - 2s 1ms/step - loss: 0.5880 - acc: 0.7175 - val_loss: 0.6219 - val_acc: 0.7225\n",
      "Epoch 4/10\n",
      "1600/1600 [==============================] - 2s 1ms/step - loss: 0.5789 - acc: 0.7231 - val_loss: 0.6257 - val_acc: 0.7075\n",
      "Epoch 5/10\n",
      "1600/1600 [==============================] - 2s 1ms/step - loss: 0.5721 - acc: 0.7256 - val_loss: 0.6267 - val_acc: 0.7075\n",
      "Epoch 6/10\n",
      "1600/1600 [==============================] - 2s 1ms/step - loss: 0.5667 - acc: 0.7306 - val_loss: 0.6323 - val_acc: 0.6925\n",
      "Epoch 7/10\n",
      "1600/1600 [==============================] - 2s 1ms/step - loss: 0.5606 - acc: 0.7244 - val_loss: 0.6319 - val_acc: 0.7125\n",
      "Epoch 8/10\n",
      "1600/1600 [==============================] - 2s 1ms/step - loss: 0.5546 - acc: 0.7288 - val_loss: 0.6408 - val_acc: 0.6725\n",
      "Epoch 9/10\n",
      "1600/1600 [==============================] - 2s 1ms/step - loss: 0.5484 - acc: 0.7356 - val_loss: 0.6406 - val_acc: 0.6750\n",
      "Epoch 10/10\n",
      "1600/1600 [==============================] - 2s 1ms/step - loss: 0.5465 - acc: 0.7338 - val_loss: 0.6493 - val_acc: 0.6475\n"
     ]
    }
   ],
   "source": [
    "model.compile(optimizer='rmsprop',loss='binary_crossentropy',metrics=['acc'])\n",
    "history=model.fit(x_train,y_train,epochs=10,batch_size=128,validation_split=0.2)"
   ]
  },
  {
   "cell_type": "code",
   "execution_count": 22,
   "metadata": {},
   "outputs": [
    {
     "data": {
      "image/png": "[encoded data removed]",
      "text/plain": [
       "<Figure size 432x288 with 1 Axes>"
      ]
     },
     "metadata": {},
     "output_type": "display_data"
    },
    {
     "data": {
      "image/png": "[encoded data removed]",
      "text/plain": [
       "<Figure size 432x288 with 1 Axes>"
      ]
     },
     "metadata": {},
     "output_type": "display_data"
    }
   ],
   "source": [
    "acc=history.history['acc']\n",
    "loss=history.history['loss']\n",
    "epochs=range(1,len(acc)+1)\n",
    "plt.plot(epochs,acc,'bo',label='Training acc')\n",
    "plt.title('Training accuracy')\n",
    "plt.legend()\n",
    "plt.figure()\n",
    "plt.plot(epochs,loss,'bo',label='Training loss')\n",
    "plt.title('Training  loss')\n",
    "plt.legend()\n",
    "plt.show()"
   ]
  },
  {
   "cell_type": "code",
   "execution_count": 26,
   "metadata": {},
   "outputs": [
    {
     "name": "stdout",
     "output_type": "stream",
     "text": [
      "_________________________________________________________________\n",
      "Layer (type)                 Output Shape              Param #   \n",
      "=================================================================\n",
      "embedding_9 (Embedding)      (None, 200, 100)          1500000   \n",
      "_________________________________________________________________\n",
      "simple_rnn_9 (SimpleRNN)     (None, 200, 32)           4256      \n",
      "_________________________________________________________________\n",
      "simple_rnn_10 (SimpleRNN)    (None, 200, 32)           2080      \n",
      "_________________________________________________________________\n",
      "simple_rnn_11 (SimpleRNN)    (None, 200, 32)           2080      \n",
      "_________________________________________________________________\n",
      "flatten_2 (Flatten)          (None, 6400)              0         \n",
      "_________________________________________________________________\n",
      "dense_3 (Dense)              (None, 1)                 6401      \n",
      "=================================================================\n",
      "Total params: 1,514,817\n",
      "Trainable params: 14,817\n",
      "Non-trainable params: 1,500,000\n",
      "_________________________________________________________________\n"
     ]
    }
   ],
   "source": [
    "model = Sequential()\n",
    "model.add(Embedding(max_words,embedding_dim,input_length=maxlen))\n",
    "model.add(SimpleRNN(32,return_sequences=True))\n",
    "model.add(SimpleRNN(32,return_sequences=True))\n",
    "model.add(SimpleRNN(32,return_sequences=True))\n",
    "model.add(Flatten())\n",
    "model.add(Dense(1,activation='sigmoid'))\n",
    "model.layers[0].set_weights([embedding_matrix])\n",
    "model.layers[0].trainable = False\n",
    "model.summary()"
   ]
  },
  {
   "cell_type": "code",
   "execution_count": 27,
   "metadata": {},
   "outputs": [
    {
     "name": "stdout",
     "output_type": "stream",
     "text": [
      "Train on 1600 samples, validate on 400 samples\n",
      "Epoch 1/10\n",
      "1600/1600 [==============================] - 7s 5ms/step - loss: 0.9098 - acc: 0.6169 - val_loss: 0.6055 - val_acc: 0.7325\n",
      "Epoch 2/10\n",
      "1600/1600 [==============================] - 5s 3ms/step - loss: 0.5941 - acc: 0.7125 - val_loss: 0.5807 - val_acc: 0.7375\n",
      "Epoch 3/10\n",
      "1600/1600 [==============================] - 5s 3ms/step - loss: 0.5518 - acc: 0.7306 - val_loss: 0.5792 - val_acc: 0.7150\n",
      "Epoch 4/10\n",
      "1600/1600 [==============================] - 5s 3ms/step - loss: 0.4892 - acc: 0.7700 - val_loss: 0.6113 - val_acc: 0.7300\n",
      "Epoch 5/10\n",
      "1600/1600 [==============================] - 5s 3ms/step - loss: 0.4408 - acc: 0.8094 - val_loss: 0.5997 - val_acc: 0.7150\n",
      "Epoch 6/10\n",
      "1600/1600 [==============================] - 5s 3ms/step - loss: 0.3930 - acc: 0.8494 - val_loss: 0.6160 - val_acc: 0.6875\n",
      "Epoch 7/10\n",
      "1600/1600 [==============================] - 5s 3ms/step - loss: 0.3535 - acc: 0.8681 - val_loss: 0.6487 - val_acc: 0.6875\n",
      "Epoch 8/10\n",
      "1600/1600 [==============================] - 5s 3ms/step - loss: 0.2978 - acc: 0.9006 - val_loss: 0.6559 - val_acc: 0.6625\n",
      "Epoch 9/10\n",
      "1600/1600 [==============================] - 5s 3ms/step - loss: 0.2569 - acc: 0.9237 - val_loss: 0.6752 - val_acc: 0.6525\n",
      "Epoch 10/10\n",
      "1600/1600 [==============================] - 5s 3ms/step - loss: 0.2218 - acc: 0.9406 - val_loss: 0.7085 - val_acc: 0.6425\n"
     ]
    }
   ],
   "source": [
    "model.compile(optimizer='rmsprop',loss='binary_crossentropy',metrics=['acc'])\n",
    "history=model.fit(x_train,y_train,epochs=10,batch_size=128,validation_split=0.2)"
   ]
  },
  {
   "cell_type": "code",
   "execution_count": 28,
   "metadata": {},
   "outputs": [
    {
     "data": {
      "image/png": "[encoded data removed]",
      "text/plain": [
       "<Figure size 432x288 with 1 Axes>"
      ]
     },
     "metadata": {},
     "output_type": "display_data"
    },
    {
     "data": {
      "image/png": "[encoded data removed]",
      "text/plain": [
       "<Figure size 432x288 with 1 Axes>"
      ]
     },
     "metadata": {},
     "output_type": "display_data"
    }
   ],
   "source": [
    "acc=history.history['acc']\n",
    "loss=history.history['loss']\n",
    "epochs=range(1,len(acc)+1)\n",
    "plt.plot(epochs,acc,'bo',label='Training acc')\n",
    "plt.title('Training accuracy')\n",
    "plt.legend()\n",
    "plt.figure()\n",
    "plt.plot(epochs,loss,'bo',label='Training loss')\n",
    "plt.title('Training  loss')\n",
    "plt.legend()\n",
    "plt.show()"
   ]
  },
  {
   "cell_type": "code",
   "execution_count": 31,
   "metadata": {},
   "outputs": [
    {
     "name": "stdout",
     "output_type": "stream",
     "text": [
      "_________________________________________________________________\n",
      "Layer (type)                 Output Shape              Param #   \n",
      "=================================================================\n",
      "embedding_11 (Embedding)     (None, 200, 100)          1500000   \n",
      "_________________________________________________________________\n",
      "lstm_2 (LSTM)                (None, 200, 32)           17024     \n",
      "_________________________________________________________________\n",
      "flatten_4 (Flatten)          (None, 6400)              0         \n",
      "_________________________________________________________________\n",
      "dense_5 (Dense)              (None, 1)                 6401      \n",
      "=================================================================\n",
      "Total params: 1,523,425\n",
      "Trainable params: 23,425\n",
      "Non-trainable params: 1,500,000\n",
      "_________________________________________________________________\n"
     ]
    }
   ],
   "source": [
    "from keras.layers import LSTM\n",
    "model = Sequential()\n",
    "model.add(Embedding(max_words,embedding_dim,input_length=maxlen))\n",
    "model.add(LSTM(32,return_sequences=True))\n",
    "model.add(Flatten())\n",
    "model.add(Dense(1,activation='sigmoid'))\n",
    "model.layers[0].set_weights([embedding_matrix])\n",
    "model.layers[0].trainable = False\n",
    "model.summary()"
   ]
  },
  {
   "cell_type": "code",
   "execution_count": 33,
   "metadata": {},
   "outputs": [
    {
     "name": "stdout",
     "output_type": "stream",
     "text": [
      "Train on 1600 samples, validate on 400 samples\n",
      "Epoch 1/40\n",
      "1600/1600 [==============================] - 9s 5ms/step - loss: 0.5489 - acc: 0.7294 - val_loss: 0.6056 - val_acc: 0.7300\n",
      "Epoch 2/40\n",
      "1600/1600 [==============================] - 5s 3ms/step - loss: 0.4711 - acc: 0.7869 - val_loss: 0.5883 - val_acc: 0.7150\n",
      "Epoch 3/40\n",
      "1600/1600 [==============================] - 6s 4ms/step - loss: 0.4576 - acc: 0.7969 - val_loss: 0.6091 - val_acc: 0.6825\n",
      "Epoch 4/40\n",
      "1600/1600 [==============================] - 5s 3ms/step - loss: 0.4210 - acc: 0.8237 - val_loss: 0.6862 - val_acc: 0.5925\n",
      "Epoch 5/40\n",
      "1600/1600 [==============================] - 5s 3ms/step - loss: 0.4033 - acc: 0.8306 - val_loss: 0.6661 - val_acc: 0.6400\n",
      "Epoch 6/40\n",
      "1600/1600 [==============================] - 6s 4ms/step - loss: 0.3742 - acc: 0.8463 - val_loss: 0.6425 - val_acc: 0.6975\n",
      "Epoch 7/40\n",
      "1600/1600 [==============================] - 5s 3ms/step - loss: 0.3478 - acc: 0.8606 - val_loss: 0.6740 - val_acc: 0.6450\n",
      "Epoch 8/40\n",
      "1600/1600 [==============================] - 5s 3ms/step - loss: 0.3200 - acc: 0.8756 - val_loss: 0.6691 - val_acc: 0.6725\n",
      "Epoch 9/40\n",
      "1600/1600 [==============================] - 5s 3ms/step - loss: 0.2902 - acc: 0.8969 - val_loss: 0.7148 - val_acc: 0.7050\n",
      "Epoch 10/40\n",
      "1600/1600 [==============================] - 5s 3ms/step - loss: 0.2676 - acc: 0.9031 - val_loss: 0.7171 - val_acc: 0.6775\n",
      "Epoch 11/40\n",
      "1600/1600 [==============================] - 5s 3ms/step - loss: 0.2476 - acc: 0.9113 - val_loss: 0.8285 - val_acc: 0.6925\n",
      "Epoch 12/40\n",
      "1600/1600 [==============================] - 5s 3ms/step - loss: 0.2180 - acc: 0.9281 - val_loss: 0.7760 - val_acc: 0.6150\n",
      "Epoch 13/40\n",
      "1600/1600 [==============================] - 5s 3ms/step - loss: 0.2038 - acc: 0.9413 - val_loss: 0.7972 - val_acc: 0.6800\n",
      "Epoch 14/40\n",
      "1600/1600 [==============================] - 5s 3ms/step - loss: 0.1874 - acc: 0.9413 - val_loss: 0.7985 - val_acc: 0.6475\n",
      "Epoch 15/40\n",
      "1600/1600 [==============================] - 5s 3ms/step - loss: 0.1648 - acc: 0.9606 - val_loss: 0.8889 - val_acc: 0.6825\n",
      "Epoch 16/40\n",
      "1600/1600 [==============================] - 5s 3ms/step - loss: 0.1577 - acc: 0.9569 - val_loss: 0.8826 - val_acc: 0.6225\n",
      "Epoch 17/40\n",
      "1600/1600 [==============================] - 5s 3ms/step - loss: 0.1306 - acc: 0.9769 - val_loss: 0.9244 - val_acc: 0.6775\n",
      "Epoch 18/40\n",
      "1600/1600 [==============================] - 5s 3ms/step - loss: 0.1149 - acc: 0.9738 - val_loss: 1.0015 - val_acc: 0.6850\n",
      "Epoch 19/40\n",
      "1600/1600 [==============================] - 5s 3ms/step - loss: 0.1035 - acc: 0.9794 - val_loss: 1.0291 - val_acc: 0.6900\n",
      "Epoch 20/40\n",
      "1600/1600 [==============================] - 5s 3ms/step - loss: 0.0908 - acc: 0.9844 - val_loss: 1.0695 - val_acc: 0.6550\n",
      "Epoch 21/40\n",
      "1600/1600 [==============================] - 5s 3ms/step - loss: 0.0775 - acc: 0.9881 - val_loss: 1.1100 - val_acc: 0.6475\n",
      "Epoch 22/40\n",
      "1600/1600 [==============================] - 5s 3ms/step - loss: 0.0676 - acc: 0.9906 - val_loss: 1.1306 - val_acc: 0.6375\n",
      "Epoch 23/40\n",
      "1600/1600 [==============================] - 5s 3ms/step - loss: 0.0578 - acc: 0.9913 - val_loss: 1.1651 - val_acc: 0.6725\n",
      "Epoch 24/40\n",
      "1600/1600 [==============================] - 5s 3ms/step - loss: 0.0491 - acc: 0.9919 - val_loss: 1.1547 - val_acc: 0.5700\n",
      "Epoch 25/40\n",
      "1600/1600 [==============================] - 5s 3ms/step - loss: 0.0495 - acc: 0.9937 - val_loss: 1.3003 - val_acc: 0.6125\n",
      "Epoch 26/40\n",
      "1600/1600 [==============================] - 5s 3ms/step - loss: 0.0374 - acc: 0.9969 - val_loss: 1.3474 - val_acc: 0.6325\n",
      "Epoch 27/40\n",
      "1600/1600 [==============================] - 5s 3ms/step - loss: 0.0387 - acc: 0.9944 - val_loss: 1.3581 - val_acc: 0.6925\n",
      "Epoch 28/40\n",
      "1600/1600 [==============================] - 5s 3ms/step - loss: 0.0344 - acc: 0.9950 - val_loss: 1.3982 - val_acc: 0.6625\n",
      "Epoch 29/40\n",
      "1600/1600 [==============================] - 6s 4ms/step - loss: 0.0214 - acc: 0.9975 - val_loss: 1.4762 - val_acc: 0.6075\n",
      "Epoch 30/40\n",
      "1600/1600 [==============================] - 5s 3ms/step - loss: 0.0231 - acc: 0.9988 - val_loss: 1.5041 - val_acc: 0.6675\n",
      "Epoch 31/40\n",
      "1600/1600 [==============================] - 5s 3ms/step - loss: 0.0341 - acc: 0.9944 - val_loss: 1.4650 - val_acc: 0.6025\n",
      "Epoch 32/40\n",
      "1600/1600 [==============================] - 5s 3ms/step - loss: 0.0144 - acc: 0.9994 - val_loss: 1.5676 - val_acc: 0.6250\n",
      "Epoch 33/40\n",
      "1600/1600 [==============================] - 5s 3ms/step - loss: 0.0128 - acc: 0.9988 - val_loss: 1.6120 - val_acc: 0.6250\n",
      "Epoch 34/40\n",
      "1600/1600 [==============================] - 6s 3ms/step - loss: 0.0149 - acc: 0.9988 - val_loss: 1.6310 - val_acc: 0.6375\n",
      "Epoch 35/40\n",
      "1600/1600 [==============================] - 6s 4ms/step - loss: 0.0094 - acc: 0.9994 - val_loss: 1.7995 - val_acc: 0.6625\n",
      "Epoch 36/40\n",
      "1600/1600 [==============================] - 6s 3ms/step - loss: 0.0252 - acc: 0.9925 - val_loss: 1.8003 - val_acc: 0.6125\n",
      "Epoch 37/40\n",
      "1600/1600 [==============================] - 5s 3ms/step - loss: 0.0076 - acc: 0.9994 - val_loss: 1.7873 - val_acc: 0.6400\n",
      "Epoch 38/40\n",
      "1600/1600 [==============================] - 6s 3ms/step - loss: 0.0064 - acc: 0.9994 - val_loss: 1.8428 - val_acc: 0.6375\n",
      "Epoch 39/40\n",
      "1600/1600 [==============================] - 5s 3ms/step - loss: 0.0135 - acc: 0.9975 - val_loss: 1.7871 - val_acc: 0.6425\n",
      "Epoch 40/40\n",
      "1600/1600 [==============================] - 6s 4ms/step - loss: 0.0066 - acc: 0.9994 - val_loss: 1.9049 - val_acc: 0.6325\n"
     ]
    }
   ],
   "source": [
    "model.compile(optimizer='rmsprop',loss='binary_crossentropy',metrics=['acc'])\n",
    "history=model.fit(x_train,y_train,epochs=40,batch_size=128,validation_split=0.2)"
   ]
  },
  {
   "cell_type": "code",
   "execution_count": 34,
   "metadata": {},
   "outputs": [
    {
     "data": {
      "image/png": "[encoded data removed]",
      "text/plain": [
       "<Figure size 432x288 with 1 Axes>"
      ]
     },
     "metadata": {},
     "output_type": "display_data"
    },
    {
     "data": {
      "image/png": "[encoded data removed]",
      "text/plain": [
       "<Figure size 432x288 with 1 Axes>"
      ]
     },
     "metadata": {},
     "output_type": "display_data"
    }
   ],
   "source": [
    "acc=history.history['acc']\n",
    "loss=history.history['loss']\n",
    "epochs=range(1,len(acc)+1)\n",
    "plt.plot(epochs,acc,'bo',label='Training acc')\n",
    "plt.title('Training accuracy')\n",
    "plt.legend()\n",
    "plt.figure()\n",
    "plt.plot(epochs,loss,'bo',label='Training loss')\n",
    "plt.title('Training  loss')\n",
    "plt.legend()\n",
    "plt.show()"
   ]
  },
  {
   "cell_type": "code",
   "execution_count": 35,
   "metadata": {},
   "outputs": [
    {
     "name": "stdout",
     "output_type": "stream",
     "text": [
      "_________________________________________________________________\n",
      "Layer (type)                 Output Shape              Param #   \n",
      "=================================================================\n",
      "embedding_12 (Embedding)     (None, 200, 100)          1500000   \n",
      "_________________________________________________________________\n",
      "lstm_3 (LSTM)                (None, 200, 64)           42240     \n",
      "_________________________________________________________________\n",
      "lstm_4 (LSTM)                (None, 200, 32)           12416     \n",
      "_________________________________________________________________\n",
      "flatten_5 (Flatten)          (None, 6400)              0         \n",
      "_________________________________________________________________\n",
      "dense_6 (Dense)              (None, 1)                 6401      \n",
      "=================================================================\n",
      "Total params: 1,561,057\n",
      "Trainable params: 61,057\n",
      "Non-trainable params: 1,500,000\n",
      "_________________________________________________________________\n"
     ]
    }
   ],
   "source": [
    "model = Sequential()\n",
    "model.add(Embedding(max_words,embedding_dim,input_length=maxlen))\n",
    "model.add(LSTM(64,return_sequences=True))\n",
    "model.add(LSTM(32,return_sequences=True))\n",
    "model.add(Flatten())\n",
    "model.add(Dense(1,activation='sigmoid'))\n",
    "model.layers[0].set_weights([embedding_matrix])\n",
    "model.layers[0].trainable = False\n",
    "model.summary()"
   ]
  },
  {
   "cell_type": "code",
   "execution_count": 36,
   "metadata": {},
   "outputs": [
    {
     "name": "stdout",
     "output_type": "stream",
     "text": [
      "Train on 1600 samples, validate on 400 samples\n",
      "Epoch 1/40\n",
      "1600/1600 [==============================] - 18s 11ms/step - loss: 0.6462 - acc: 0.6613 - val_loss: 0.5886 - val_acc: 0.7300\n",
      "Epoch 2/40\n",
      "1600/1600 [==============================] - 13s 8ms/step - loss: 0.5951 - acc: 0.7219 - val_loss: 0.6083 - val_acc: 0.7300\n",
      "Epoch 3/40\n",
      "1600/1600 [==============================] - 15s 10ms/step - loss: 0.5845 - acc: 0.7231 - val_loss: 0.5913 - val_acc: 0.7300\n",
      "Epoch 4/40\n",
      "1600/1600 [==============================] - 14s 9ms/step - loss: 0.5854 - acc: 0.7206 - val_loss: 0.5911 - val_acc: 0.7300\n",
      "Epoch 5/40\n",
      "1600/1600 [==============================] - 14s 9ms/step - loss: 0.5620 - acc: 0.7288 - val_loss: 0.6578 - val_acc: 0.7300\n",
      "Epoch 6/40\n",
      "1600/1600 [==============================] - 13s 8ms/step - loss: 0.5513 - acc: 0.7381 - val_loss: 0.6196 - val_acc: 0.7325\n",
      "Epoch 7/40\n",
      "1600/1600 [==============================] - 12s 7ms/step - loss: 0.5266 - acc: 0.7469 - val_loss: 0.6381 - val_acc: 0.7325\n",
      "Epoch 8/40\n",
      "1600/1600 [==============================] - 12s 8ms/step - loss: 0.5114 - acc: 0.7575 - val_loss: 0.6479 - val_acc: 0.7125\n",
      "Epoch 9/40\n",
      "1600/1600 [==============================] - 12s 7ms/step - loss: 0.4744 - acc: 0.7856 - val_loss: 0.6525 - val_acc: 0.6850\n",
      "Epoch 10/40\n",
      "1600/1600 [==============================] - 12s 8ms/step - loss: 0.4565 - acc: 0.7913 - val_loss: 0.6902 - val_acc: 0.5850\n",
      "Epoch 11/40\n",
      "1600/1600 [==============================] - 12s 7ms/step - loss: 0.4249 - acc: 0.8094 - val_loss: 0.7142 - val_acc: 0.6900\n",
      "Epoch 12/40\n",
      "1600/1600 [==============================] - 12s 7ms/step - loss: 0.4155 - acc: 0.8119 - val_loss: 0.7383 - val_acc: 0.6650\n",
      "Epoch 13/40\n",
      "1600/1600 [==============================] - 12s 7ms/step - loss: 0.3768 - acc: 0.8294 - val_loss: 0.7385 - val_acc: 0.6125\n",
      "Epoch 14/40\n",
      "1600/1600 [==============================] - 12s 8ms/step - loss: 0.3516 - acc: 0.8513 - val_loss: 0.8378 - val_acc: 0.6425\n",
      "Epoch 15/40\n",
      "1600/1600 [==============================] - 12s 8ms/step - loss: 0.3346 - acc: 0.8625 - val_loss: 0.7829 - val_acc: 0.6500\n",
      "Epoch 16/40\n",
      "1600/1600 [==============================] - 12s 7ms/step - loss: 0.3073 - acc: 0.8781 - val_loss: 0.8725 - val_acc: 0.6425\n",
      "Epoch 17/40\n",
      "1600/1600 [==============================] - 12s 7ms/step - loss: 0.2733 - acc: 0.8969 - val_loss: 0.9427 - val_acc: 0.6375\n",
      "Epoch 18/40\n",
      "1600/1600 [==============================] - 12s 7ms/step - loss: 0.2427 - acc: 0.9119 - val_loss: 0.9580 - val_acc: 0.6475\n",
      "Epoch 19/40\n",
      "1600/1600 [==============================] - 13s 8ms/step - loss: 0.2164 - acc: 0.9231 - val_loss: 1.1175 - val_acc: 0.6450\n",
      "Epoch 20/40\n",
      "1600/1600 [==============================] - 12s 8ms/step - loss: 0.1838 - acc: 0.9312 - val_loss: 1.0324 - val_acc: 0.6000\n",
      "Epoch 21/40\n",
      "1600/1600 [==============================] - 12s 7ms/step - loss: 0.1680 - acc: 0.9375 - val_loss: 1.2153 - val_acc: 0.6075\n",
      "Epoch 22/40\n",
      "1600/1600 [==============================] - 12s 7ms/step - loss: 0.1361 - acc: 0.9525 - val_loss: 1.1982 - val_acc: 0.6275\n",
      "Epoch 23/40\n",
      "1600/1600 [==============================] - 12s 8ms/step - loss: 0.1239 - acc: 0.9569 - val_loss: 1.3742 - val_acc: 0.6200\n",
      "Epoch 24/40\n",
      "1600/1600 [==============================] - 12s 7ms/step - loss: 0.1000 - acc: 0.9650 - val_loss: 1.4647 - val_acc: 0.6125\n",
      "Epoch 25/40\n",
      "1600/1600 [==============================] - 12s 8ms/step - loss: 0.0870 - acc: 0.9750 - val_loss: 1.3616 - val_acc: 0.5950\n",
      "Epoch 26/40\n",
      "1600/1600 [==============================] - 12s 7ms/step - loss: 0.0630 - acc: 0.9850 - val_loss: 1.3597 - val_acc: 0.6150\n",
      "Epoch 27/40\n",
      "1600/1600 [==============================] - 12s 8ms/step - loss: 0.1048 - acc: 0.9606 - val_loss: 1.4858 - val_acc: 0.6175\n",
      "Epoch 28/40\n",
      "1600/1600 [==============================] - 12s 8ms/step - loss: 0.0473 - acc: 0.9906 - val_loss: 1.5524 - val_acc: 0.6250\n",
      "Epoch 29/40\n",
      "1600/1600 [==============================] - 12s 7ms/step - loss: 0.0580 - acc: 0.9825 - val_loss: 1.6170 - val_acc: 0.6150\n",
      "Epoch 30/40\n",
      "1600/1600 [==============================] - 12s 8ms/step - loss: 0.0377 - acc: 0.9906 - val_loss: 1.6446 - val_acc: 0.5925\n",
      "Epoch 31/40\n",
      "1600/1600 [==============================] - 12s 7ms/step - loss: 0.0568 - acc: 0.9812 - val_loss: 1.7174 - val_acc: 0.6225\n",
      "Epoch 32/40\n",
      "1600/1600 [==============================] - 12s 7ms/step - loss: 0.0227 - acc: 0.9937 - val_loss: 1.9903 - val_acc: 0.5975\n",
      "Epoch 33/40\n",
      "1600/1600 [==============================] - 13s 8ms/step - loss: 0.0467 - acc: 0.9819 - val_loss: 1.9666 - val_acc: 0.6225\n",
      "Epoch 34/40\n",
      "1600/1600 [==============================] - 14s 9ms/step - loss: 0.0451 - acc: 0.9875 - val_loss: 1.7700 - val_acc: 0.6175\n",
      "Epoch 35/40\n",
      "1600/1600 [==============================] - 13s 8ms/step - loss: 0.0192 - acc: 0.9975 - val_loss: 2.0341 - val_acc: 0.6050\n",
      "Epoch 36/40\n",
      "1600/1600 [==============================] - 13s 8ms/step - loss: 0.0238 - acc: 0.9931 - val_loss: 2.2373 - val_acc: 0.5675\n",
      "Epoch 37/40\n",
      "1600/1600 [==============================] - 13s 8ms/step - loss: 0.0453 - acc: 0.9819 - val_loss: 1.9144 - val_acc: 0.5900\n",
      "Epoch 38/40\n",
      "1600/1600 [==============================] - 13s 8ms/step - loss: 0.0191 - acc: 0.9956 - val_loss: 2.0064 - val_acc: 0.6025\n",
      "Epoch 39/40\n",
      "1600/1600 [==============================] - 12s 8ms/step - loss: 0.0378 - acc: 0.9881 - val_loss: 1.7892 - val_acc: 0.6050\n",
      "Epoch 40/40\n",
      "1600/1600 [==============================] - 13s 8ms/step - loss: 0.0301 - acc: 0.9931 - val_loss: 2.0022 - val_acc: 0.6025\n"
     ]
    }
   ],
   "source": [
    "model.compile(optimizer='rmsprop',loss='binary_crossentropy',metrics=['acc'])\n",
    "history=model.fit(x_train,y_train,epochs=40,batch_size=128,validation_split=0.2)"
   ]
  },
  {
   "cell_type": "code",
   "execution_count": 37,
   "metadata": {},
   "outputs": [
    {
     "data": {
      "image/png": "[encoded data removed]",
      "text/plain": [
       "<Figure size 432x288 with 1 Axes>"
      ]
     },
     "metadata": {},
     "output_type": "display_data"
    },
    {
     "data": {
      "image/png": "[encoded data removed]",
      "text/plain": [
       "<Figure size 432x288 with 1 Axes>"
      ]
     },
     "metadata": {},
     "output_type": "display_data"
    }
   ],
   "source": [
    "acc=history.history['acc']\n",
    "loss=history.history['loss']\n",
    "epochs=range(1,len(acc)+1)\n",
    "plt.plot(epochs,acc,'bo',label='Training acc')\n",
    "plt.title('Training accuracy')\n",
    "plt.legend()\n",
    "plt.figure()\n",
    "plt.plot(epochs,loss,'bo',label='Training loss')\n",
    "plt.title('Training  loss')\n",
    "plt.legend()\n",
    "plt.show()"
   ]
  },
  {
   "cell_type": "code",
   "execution_count": 38,
   "metadata": {},
   "outputs": [
    {
     "name": "stdout",
     "output_type": "stream",
     "text": [
      "_________________________________________________________________\n",
      "Layer (type)                 Output Shape              Param #   \n",
      "=================================================================\n",
      "embedding_13 (Embedding)     (None, 200, 100)          1500000   \n",
      "_________________________________________________________________\n",
      "lstm_5 (LSTM)                (None, 200, 64)           42240     \n",
      "_________________________________________________________________\n",
      "lstm_6 (LSTM)                (None, 200, 32)           12416     \n",
      "_________________________________________________________________\n",
      "flatten_6 (Flatten)          (None, 6400)              0         \n",
      "_________________________________________________________________\n",
      "dense_7 (Dense)              (None, 1)                 6401      \n",
      "=================================================================\n",
      "Total params: 1,561,057\n",
      "Trainable params: 61,057\n",
      "Non-trainable params: 1,500,000\n",
      "_________________________________________________________________\n"
     ]
    }
   ],
   "source": [
    "model = Sequential()\n",
    "model.add(Embedding(max_words,embedding_dim,input_length=maxlen))\n",
    "model.add(LSTM(64,return_sequences=True ,dropout=0.5, recurrent_dropout=0.5))\n",
    "model.add(LSTM(32,return_sequences=True, dropout=0.5, recurrent_dropout=0.5))\n",
    "model.add(Flatten())\n",
    "model.add(Dense(1,activation='sigmoid'))\n",
    "model.layers[0].set_weights([embedding_matrix])\n",
    "model.layers[0].trainable = False\n",
    "model.summary()"
   ]
  },
  {
   "cell_type": "code",
   "execution_count": 39,
   "metadata": {},
   "outputs": [
    {
     "name": "stdout",
     "output_type": "stream",
     "text": [
      "Train on 1600 samples, validate on 400 samples\n",
      "Epoch 1/40\n",
      "1600/1600 [==============================] - 22s 14ms/step - loss: 0.6402 - acc: 0.6650 - val_loss: 0.6733 - val_acc: 0.7300\n",
      "Epoch 2/40\n",
      "1600/1600 [==============================] - 16s 10ms/step - loss: 0.6226 - acc: 0.7013 - val_loss: 0.6199 - val_acc: 0.7300\n",
      "Epoch 3/40\n",
      "1600/1600 [==============================] - 16s 10ms/step - loss: 0.6094 - acc: 0.7194 - val_loss: 0.6252 - val_acc: 0.7300\n",
      "Epoch 4/40\n",
      "1600/1600 [==============================] - 15s 9ms/step - loss: 0.6117 - acc: 0.7112 - val_loss: 0.6034 - val_acc: 0.7300\n",
      "Epoch 5/40\n",
      "1600/1600 [==============================] - 16s 10ms/step - loss: 0.6032 - acc: 0.7200 - val_loss: 0.6126 - val_acc: 0.7300\n",
      "Epoch 6/40\n",
      "1600/1600 [==============================] - 16s 10ms/step - loss: 0.6129 - acc: 0.7206 - val_loss: 0.6076 - val_acc: 0.7300\n",
      "Epoch 7/40\n",
      "1600/1600 [==============================] - 15s 10ms/step - loss: 0.5978 - acc: 0.7188 - val_loss: 0.5949 - val_acc: 0.7300\n",
      "Epoch 8/40\n",
      "1600/1600 [==============================] - 15s 10ms/step - loss: 0.5963 - acc: 0.7162 - val_loss: 0.5985 - val_acc: 0.7300\n",
      "Epoch 9/40\n",
      "1600/1600 [==============================] - 16s 10ms/step - loss: 0.5972 - acc: 0.7206 - val_loss: 0.6002 - val_acc: 0.7300\n",
      "Epoch 10/40\n",
      "1600/1600 [==============================] - 16s 10ms/step - loss: 0.5960 - acc: 0.7200 - val_loss: 0.5915 - val_acc: 0.7300\n",
      "Epoch 11/40\n",
      "1600/1600 [==============================] - 15s 9ms/step - loss: 0.5957 - acc: 0.7156 - val_loss: 0.5964 - val_acc: 0.7300\n",
      "Epoch 12/40\n",
      "1600/1600 [==============================] - 16s 10ms/step - loss: 0.6028 - acc: 0.7156 - val_loss: 0.6092 - val_acc: 0.7300\n",
      "Epoch 13/40\n",
      "1600/1600 [==============================] - 15s 10ms/step - loss: 0.5856 - acc: 0.7200 - val_loss: 0.5969 - val_acc: 0.7300\n",
      "Epoch 14/40\n",
      "1600/1600 [==============================] - 16s 10ms/step - loss: 0.5913 - acc: 0.7194 - val_loss: 0.5924 - val_acc: 0.7300\n",
      "Epoch 15/40\n",
      "1600/1600 [==============================] - 18s 11ms/step - loss: 0.5823 - acc: 0.7231 - val_loss: 0.5930 - val_acc: 0.7300\n",
      "Epoch 16/40\n",
      "1600/1600 [==============================] - 16s 10ms/step - loss: 0.5938 - acc: 0.7144 - val_loss: 0.5903 - val_acc: 0.7300\n",
      "Epoch 17/40\n",
      "1600/1600 [==============================] - 16s 10ms/step - loss: 0.5748 - acc: 0.7231 - val_loss: 0.6096 - val_acc: 0.7175\n",
      "Epoch 18/40\n",
      "1600/1600 [==============================] - 16s 10ms/step - loss: 0.5889 - acc: 0.7194 - val_loss: 0.5906 - val_acc: 0.7300\n",
      "Epoch 19/40\n",
      "1600/1600 [==============================] - 15s 10ms/step - loss: 0.5776 - acc: 0.7181 - val_loss: 0.5917 - val_acc: 0.7300\n",
      "Epoch 20/40\n",
      "1600/1600 [==============================] - 15s 10ms/step - loss: 0.5725 - acc: 0.7238 - val_loss: 0.6119 - val_acc: 0.7300\n",
      "Epoch 21/40\n",
      "1600/1600 [==============================] - 19s 12ms/step - loss: 0.5715 - acc: 0.7219 - val_loss: 0.5953 - val_acc: 0.7300\n",
      "Epoch 22/40\n",
      "1600/1600 [==============================] - 19s 12ms/step - loss: 0.5690 - acc: 0.7281 - val_loss: 0.5992 - val_acc: 0.7300\n",
      "Epoch 23/40\n",
      "1600/1600 [==============================] - 19s 12ms/step - loss: 0.5606 - acc: 0.7250 - val_loss: 0.6006 - val_acc: 0.7300\n",
      "Epoch 24/40\n",
      "1600/1600 [==============================] - 19s 12ms/step - loss: 0.5622 - acc: 0.7362 - val_loss: 0.5998 - val_acc: 0.7275\n",
      "Epoch 25/40\n",
      "1600/1600 [==============================] - 18s 11ms/step - loss: 0.5683 - acc: 0.7188 - val_loss: 0.6043 - val_acc: 0.7225\n",
      "Epoch 26/40\n",
      "1600/1600 [==============================] - 19s 12ms/step - loss: 0.5631 - acc: 0.7325 - val_loss: 0.6197 - val_acc: 0.7300\n",
      "Epoch 27/40\n",
      "1600/1600 [==============================] - 20s 12ms/step - loss: 0.5562 - acc: 0.7312 - val_loss: 0.6066 - val_acc: 0.7250\n",
      "Epoch 28/40\n",
      "1600/1600 [==============================] - 19s 12ms/step - loss: 0.5483 - acc: 0.7306 - val_loss: 0.6078 - val_acc: 0.7225\n",
      "Epoch 29/40\n",
      "1600/1600 [==============================] - 20s 13ms/step - loss: 0.5483 - acc: 0.7413 - val_loss: 0.6100 - val_acc: 0.7175\n",
      "Epoch 30/40\n",
      "1600/1600 [==============================] - 20s 12ms/step - loss: 0.5423 - acc: 0.7400 - val_loss: 0.6095 - val_acc: 0.7200\n",
      "Epoch 31/40\n",
      "1600/1600 [==============================] - 20s 12ms/step - loss: 0.5393 - acc: 0.7450 - val_loss: 0.6252 - val_acc: 0.7275\n",
      "Epoch 32/40\n",
      "1600/1600 [==============================] - 21s 13ms/step - loss: 0.5384 - acc: 0.7400 - val_loss: 0.6368 - val_acc: 0.7225\n",
      "Epoch 33/40\n",
      "1600/1600 [==============================] - 18s 11ms/step - loss: 0.5316 - acc: 0.7462 - val_loss: 0.6294 - val_acc: 0.7175\n",
      "Epoch 34/40\n",
      "1600/1600 [==============================] - 20s 12ms/step - loss: 0.5336 - acc: 0.7494 - val_loss: 0.6364 - val_acc: 0.6775\n",
      "Epoch 35/40\n",
      "1600/1600 [==============================] - 18s 11ms/step - loss: 0.5359 - acc: 0.7506 - val_loss: 0.6258 - val_acc: 0.7050\n",
      "Epoch 36/40\n",
      "1600/1600 [==============================] - 20s 12ms/step - loss: 0.5205 - acc: 0.7512 - val_loss: 0.6333 - val_acc: 0.7100\n",
      "Epoch 37/40\n",
      "1600/1600 [==============================] - 21s 13ms/step - loss: 0.5311 - acc: 0.7494 - val_loss: 0.6334 - val_acc: 0.6850\n",
      "Epoch 38/40\n",
      "1600/1600 [==============================] - 18s 11ms/step - loss: 0.5263 - acc: 0.7425 - val_loss: 0.6353 - val_acc: 0.7025\n",
      "Epoch 39/40\n",
      "1600/1600 [==============================] - 16s 10ms/step - loss: 0.5147 - acc: 0.7563 - val_loss: 0.6382 - val_acc: 0.6975\n",
      "Epoch 40/40\n",
      "1600/1600 [==============================] - 17s 10ms/step - loss: 0.5117 - acc: 0.7688 - val_loss: 0.6403 - val_acc: 0.7175\n"
     ]
    }
   ],
   "source": [
    "model.compile(optimizer='rmsprop',loss='binary_crossentropy',metrics=['acc'])\n",
    "history=model.fit(x_train,y_train,epochs=40,batch_size=128,validation_split=0.2)"
   ]
  },
  {
   "cell_type": "code",
   "execution_count": 44,
   "metadata": {},
   "outputs": [
    {
     "data": {
      "image/png": "[encoded data removed]",
      "text/plain": [
       "<Figure size 432x288 with 1 Axes>"
      ]
     },
     "metadata": {},
     "output_type": "display_data"
    },
    {
     "data": {
      "image/png": "[encoded data removed]",
      "text/plain": [
       "<Figure size 432x288 with 1 Axes>"
      ]
     },
     "metadata": {},
     "output_type": "display_data"
    }
   ],
   "source": [
    "acc=history.history['acc']\n",
    "loss=history.history['loss']\n",
    "epochs=range(1,len(acc)+1)\n",
    "plt.plot(epochs,acc,'bo',label='Training acc')\n",
    "plt.title('Training accuracy')\n",
    "plt.legend()\n",
    "plt.figure()\n",
    "plt.plot(epochs,loss,'bo',label='Training loss')\n",
    "plt.title('Training  loss')\n",
    "plt.legend()\n",
    "plt.show()"
   ]
  },
  {
   "cell_type": "code",
   "execution_count": 41,
   "metadata": {},
   "outputs": [
    {
     "name": "stdout",
     "output_type": "stream",
     "text": [
      "_________________________________________________________________\n",
      "Layer (type)                 Output Shape              Param #   \n",
      "=================================================================\n",
      "embedding_15 (Embedding)     (None, 200, 100)          1500000   \n",
      "_________________________________________________________________\n",
      "lstm_9 (LSTM)                (None, 200, 64)           42240     \n",
      "_________________________________________________________________\n",
      "lstm_10 (LSTM)               (None, 200, 32)           12416     \n",
      "_________________________________________________________________\n",
      "flatten_8 (Flatten)          (None, 6400)              0         \n",
      "_________________________________________________________________\n",
      "dense_9 (Dense)              (None, 1)                 6401      \n",
      "=================================================================\n",
      "Total params: 1,561,057\n",
      "Trainable params: 61,057\n",
      "Non-trainable params: 1,500,000\n",
      "_________________________________________________________________\n"
     ]
    }
   ],
   "source": [
    "model = Sequential()\n",
    "model.add(Embedding(max_words,embedding_dim,input_length=maxlen))\n",
    "model.add(LSTM(64,return_sequences=True ,dropout=0.5, recurrent_dropout=0.2))\n",
    "model.add(LSTM(32,return_sequences=True, dropout=0.5, recurrent_dropout=0.2))\n",
    "model.add(Flatten())\n",
    "model.add(Dense(1,activation='sigmoid'))\n",
    "model.layers[0].set_weights([embedding_matrix])\n",
    "model.layers[0].trainable = False\n",
    "model.summary()"
   ]
  },
  {
   "cell_type": "code",
   "execution_count": 42,
   "metadata": {},
   "outputs": [
    {
     "name": "stdout",
     "output_type": "stream",
     "text": [
      "Train on 1600 samples, validate on 400 samples\n",
      "Epoch 1/40\n",
      "1600/1600 [==============================] - 23s 15ms/step - loss: 0.6246 - acc: 0.6925 - val_loss: 0.6300 - val_acc: 0.7300\n",
      "Epoch 2/40\n",
      "1600/1600 [==============================] - 17s 11ms/step - loss: 0.6051 - acc: 0.7181 - val_loss: 0.5972 - val_acc: 0.7300\n",
      "Epoch 3/40\n",
      "1600/1600 [==============================] - 16s 10ms/step - loss: 0.6054 - acc: 0.7162 - val_loss: 0.5978 - val_acc: 0.7300\n",
      "Epoch 4/40\n",
      "1600/1600 [==============================] - 16s 10ms/step - loss: 0.6031 - acc: 0.7200 - val_loss: 0.5918 - val_acc: 0.7300\n",
      "Epoch 5/40\n",
      "1600/1600 [==============================] - 16s 10ms/step - loss: 0.5995 - acc: 0.7219 - val_loss: 0.5914 - val_acc: 0.7300\n",
      "Epoch 6/40\n",
      "1600/1600 [==============================] - 16s 10ms/step - loss: 0.5980 - acc: 0.7188 - val_loss: 0.5888 - val_acc: 0.7300\n",
      "Epoch 7/40\n",
      "1600/1600 [==============================] - 16s 10ms/step - loss: 0.5975 - acc: 0.7219 - val_loss: 0.5914 - val_acc: 0.7300\n",
      "Epoch 8/40\n",
      "1600/1600 [==============================] - 17s 10ms/step - loss: 0.5877 - acc: 0.7231 - val_loss: 0.5915 - val_acc: 0.7300\n",
      "Epoch 9/40\n",
      "1600/1600 [==============================] - 16s 10ms/step - loss: 0.5860 - acc: 0.7219 - val_loss: 0.5862 - val_acc: 0.7300\n",
      "Epoch 10/40\n",
      "1600/1600 [==============================] - 17s 11ms/step - loss: 0.5887 - acc: 0.7238 - val_loss: 0.6104 - val_acc: 0.7300\n",
      "Epoch 11/40\n",
      "1600/1600 [==============================] - 16s 10ms/step - loss: 0.5942 - acc: 0.7213 - val_loss: 0.5914 - val_acc: 0.7300\n",
      "Epoch 12/40\n",
      "1600/1600 [==============================] - 16s 10ms/step - loss: 0.5853 - acc: 0.7275 - val_loss: 0.5889 - val_acc: 0.7300\n",
      "Epoch 13/40\n",
      "1600/1600 [==============================] - 16s 10ms/step - loss: 0.5908 - acc: 0.7213 - val_loss: 0.5932 - val_acc: 0.7300\n",
      "Epoch 14/40\n",
      "1600/1600 [==============================] - 16s 10ms/step - loss: 0.5773 - acc: 0.7256 - val_loss: 0.5842 - val_acc: 0.7300\n",
      "Epoch 15/40\n",
      "1600/1600 [==============================] - 17s 10ms/step - loss: 0.5717 - acc: 0.7206 - val_loss: 0.5837 - val_acc: 0.7325\n",
      "Epoch 16/40\n",
      "1600/1600 [==============================] - 16s 10ms/step - loss: 0.5658 - acc: 0.7225 - val_loss: 0.5973 - val_acc: 0.7300\n",
      "Epoch 17/40\n",
      "1600/1600 [==============================] - 16s 10ms/step - loss: 0.5652 - acc: 0.7256 - val_loss: 0.5891 - val_acc: 0.7300\n",
      "Epoch 18/40\n",
      "1600/1600 [==============================] - 17s 10ms/step - loss: 0.5604 - acc: 0.7331 - val_loss: 0.6080 - val_acc: 0.7300\n",
      "Epoch 19/40\n",
      "1600/1600 [==============================] - 16s 10ms/step - loss: 0.5585 - acc: 0.7275 - val_loss: 0.5975 - val_acc: 0.7225\n",
      "Epoch 20/40\n",
      "1600/1600 [==============================] - 16s 10ms/step - loss: 0.5537 - acc: 0.7356 - val_loss: 0.5959 - val_acc: 0.7200\n",
      "Epoch 21/40\n",
      "1600/1600 [==============================] - 16s 10ms/step - loss: 0.5609 - acc: 0.7288 - val_loss: 0.6066 - val_acc: 0.7300\n",
      "Epoch 22/40\n",
      "1600/1600 [==============================] - 16s 10ms/step - loss: 0.5439 - acc: 0.7344 - val_loss: 0.6008 - val_acc: 0.7125\n",
      "Epoch 23/40\n",
      "1600/1600 [==============================] - 17s 11ms/step - loss: 0.5495 - acc: 0.7331 - val_loss: 0.5989 - val_acc: 0.7150\n",
      "Epoch 24/40\n",
      "1600/1600 [==============================] - 16s 10ms/step - loss: 0.5409 - acc: 0.7444 - val_loss: 0.6074 - val_acc: 0.7325\n",
      "Epoch 25/40\n",
      "1600/1600 [==============================] - 16s 10ms/step - loss: 0.5419 - acc: 0.7512 - val_loss: 0.6048 - val_acc: 0.7125\n",
      "Epoch 26/40\n",
      "1600/1600 [==============================] - 16s 10ms/step - loss: 0.5411 - acc: 0.7406 - val_loss: 0.6039 - val_acc: 0.7175\n",
      "Epoch 27/40\n",
      "1600/1600 [==============================] - 16s 10ms/step - loss: 0.5281 - acc: 0.7525 - val_loss: 0.6090 - val_acc: 0.7050\n",
      "Epoch 28/40\n",
      "1600/1600 [==============================] - 16s 10ms/step - loss: 0.5150 - acc: 0.7600 - val_loss: 0.6273 - val_acc: 0.7250\n",
      "Epoch 29/40\n",
      "1600/1600 [==============================] - 17s 10ms/step - loss: 0.5131 - acc: 0.7587 - val_loss: 0.6236 - val_acc: 0.7000\n",
      "Epoch 30/40\n",
      "1600/1600 [==============================] - 16s 10ms/step - loss: 0.5187 - acc: 0.7525 - val_loss: 0.6384 - val_acc: 0.6600\n",
      "Epoch 31/40\n",
      "1600/1600 [==============================] - 16s 10ms/step - loss: 0.5169 - acc: 0.7512 - val_loss: 0.6300 - val_acc: 0.7075\n",
      "Epoch 32/40\n",
      "1600/1600 [==============================] - 16s 10ms/step - loss: 0.5001 - acc: 0.7719 - val_loss: 0.6436 - val_acc: 0.7100\n",
      "Epoch 33/40\n",
      "1600/1600 [==============================] - 16s 10ms/step - loss: 0.5030 - acc: 0.7625 - val_loss: 0.6514 - val_acc: 0.6975\n",
      "Epoch 34/40\n",
      "1600/1600 [==============================] - 17s 10ms/step - loss: 0.4723 - acc: 0.7781 - val_loss: 0.6571 - val_acc: 0.6800\n",
      "Epoch 35/40\n",
      "1600/1600 [==============================] - 16s 10ms/step - loss: 0.4813 - acc: 0.7681 - val_loss: 0.6608 - val_acc: 0.6875\n",
      "Epoch 36/40\n",
      "1600/1600 [==============================] - 16s 10ms/step - loss: 0.4942 - acc: 0.7731 - val_loss: 0.6735 - val_acc: 0.6800\n",
      "Epoch 37/40\n",
      "1600/1600 [==============================] - 16s 10ms/step - loss: 0.4815 - acc: 0.7806 - val_loss: 0.6615 - val_acc: 0.6875\n",
      "Epoch 38/40\n",
      "1600/1600 [==============================] - 17s 10ms/step - loss: 0.4749 - acc: 0.7725 - val_loss: 0.6686 - val_acc: 0.6750\n",
      "Epoch 39/40\n",
      "1600/1600 [==============================] - 16s 10ms/step - loss: 0.4708 - acc: 0.7913 - val_loss: 0.6854 - val_acc: 0.7025\n",
      "Epoch 40/40\n",
      "1600/1600 [==============================] - 16s 10ms/step - loss: 0.4676 - acc: 0.7900 - val_loss: 0.6977 - val_acc: 0.7050\n"
     ]
    }
   ],
   "source": [
    "model.compile(optimizer='adam',loss='binary_crossentropy',metrics=['acc'])\n",
    "history=model.fit(x_train,y_train,epochs=40,batch_size=128,validation_split=0.2)"
   ]
  },
  {
   "cell_type": "code",
   "execution_count": 43,
   "metadata": {},
   "outputs": [
    {
     "data": {
      "image/png": "[encoded data removed]",
      "text/plain": [
       "<Figure size 432x288 with 1 Axes>"
      ]
     },
     "metadata": {},
     "output_type": "display_data"
    },
    {
     "data": {
      "image/png": "[encoded data removed]",
      "text/plain": [
       "<Figure size 432x288 with 1 Axes>"
      ]
     },
     "metadata": {},
     "output_type": "display_data"
    }
   ],
   "source": [
    "acc=history.history['acc']\n",
    "loss=history.history['loss']\n",
    "epochs=range(1,len(acc)+1)\n",
    "plt.plot(epochs,acc,'bo',label='Training acc')\n",
    "plt.title('Training accuracy')\n",
    "plt.legend()\n",
    "plt.figure()\n",
    "plt.plot(epochs,loss,'bo',label='Training loss')\n",
    "plt.title('Training  loss')\n",
    "plt.legend()\n",
    "plt.show()"
   ]
  },
  {
   "cell_type": "code",
   "execution_count": null,
   "metadata": {
    "collapsed": true
   },
   "outputs": [],
   "source": []
  }
 ],
 "metadata": {
  "kernelspec": {
   "display_name": "Python 3",
   "language": "python",
   "name": "python3"
  },
  "language_info": {
   "codemirror_mode": {
    "name": "ipython",
    "version": 3
   },
   "file_extension": ".py",
   "mimetype": "text/x-python",
   "name": "python",
   "nbconvert_exporter": "python",
   "pygments_lexer": "ipython3",
   "version": "3.6.7"
  }
 },
 "nbformat": 4,
 "nbformat_minor": 2
}
